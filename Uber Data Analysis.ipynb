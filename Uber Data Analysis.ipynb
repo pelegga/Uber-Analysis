{
 "cells": [
  {
   "cell_type": "code",
   "execution_count": 77,
   "id": "fb7c2481",
   "metadata": {},
   "outputs": [],
   "source": [
    "import pandas as pd\n",
    "import numpy as np\n",
    "import datetime as dt\n",
    "import matplotlib\n",
    "import matplotlib.pyplot as plt\n",
    "import seaborn as sns\n",
    "import calendar"
   ]
  },
  {
   "cell_type": "markdown",
   "id": "cb16562c",
   "metadata": {},
   "source": [
    "# Remove NA"
   ]
  },
  {
   "cell_type": "code",
   "execution_count": 78,
   "id": "392b58a5",
   "metadata": {},
   "outputs": [],
   "source": [
    "uber_data = pd.read_csv('My Uber Drives - 2016.csv')\n",
    "uber_data = uber_data.dropna()\n"
   ]
  },
  {
   "cell_type": "markdown",
   "id": "84f6ce7a",
   "metadata": {},
   "source": [
    "# Convert in to Datetime Object"
   ]
  },
  {
   "cell_type": "code",
   "execution_count": 79,
   "id": "ad182c66",
   "metadata": {},
   "outputs": [
    {
     "data": {
      "text/html": [
       "<div>\n",
       "<style scoped>\n",
       "    .dataframe tbody tr th:only-of-type {\n",
       "        vertical-align: middle;\n",
       "    }\n",
       "\n",
       "    .dataframe tbody tr th {\n",
       "        vertical-align: top;\n",
       "    }\n",
       "\n",
       "    .dataframe thead th {\n",
       "        text-align: right;\n",
       "    }\n",
       "</style>\n",
       "<table border=\"1\" class=\"dataframe\">\n",
       "  <thead>\n",
       "    <tr style=\"text-align: right;\">\n",
       "      <th></th>\n",
       "      <th>START_DATE*</th>\n",
       "      <th>END_DATE*</th>\n",
       "      <th>CATEGORY*</th>\n",
       "      <th>START*</th>\n",
       "      <th>STOP*</th>\n",
       "      <th>MILES*</th>\n",
       "      <th>PURPOSE*</th>\n",
       "      <th>HOUR</th>\n",
       "      <th>DAY</th>\n",
       "      <th>MONTH</th>\n",
       "      <th>WEEKDAY</th>\n",
       "      <th>DAY_OF_WEEK</th>\n",
       "      <th>TRIP</th>\n",
       "    </tr>\n",
       "  </thead>\n",
       "  <tbody>\n",
       "    <tr>\n",
       "      <th>0</th>\n",
       "      <td>2016-01-01 21:11:00</td>\n",
       "      <td>2016-01-01 21:17:00</td>\n",
       "      <td>Business</td>\n",
       "      <td>Fort Pierce</td>\n",
       "      <td>Fort Pierce</td>\n",
       "      <td>5.1</td>\n",
       "      <td>Meal/Entertain</td>\n",
       "      <td>21</td>\n",
       "      <td>1</td>\n",
       "      <td>1</td>\n",
       "      <td>Friday</td>\n",
       "      <td>4</td>\n",
       "      <td>Fort Pierce-Fort Pierce</td>\n",
       "    </tr>\n",
       "    <tr>\n",
       "      <th>2</th>\n",
       "      <td>2016-01-02 20:25:00</td>\n",
       "      <td>2016-01-02 20:38:00</td>\n",
       "      <td>Business</td>\n",
       "      <td>Fort Pierce</td>\n",
       "      <td>Fort Pierce</td>\n",
       "      <td>4.8</td>\n",
       "      <td>Errand/Supplies</td>\n",
       "      <td>20</td>\n",
       "      <td>2</td>\n",
       "      <td>1</td>\n",
       "      <td>Saturday</td>\n",
       "      <td>5</td>\n",
       "      <td>Fort Pierce-Fort Pierce</td>\n",
       "    </tr>\n",
       "    <tr>\n",
       "      <th>3</th>\n",
       "      <td>2016-01-05 17:31:00</td>\n",
       "      <td>2016-01-05 17:45:00</td>\n",
       "      <td>Business</td>\n",
       "      <td>Fort Pierce</td>\n",
       "      <td>Fort Pierce</td>\n",
       "      <td>4.7</td>\n",
       "      <td>Meeting</td>\n",
       "      <td>17</td>\n",
       "      <td>5</td>\n",
       "      <td>1</td>\n",
       "      <td>Tuesday</td>\n",
       "      <td>1</td>\n",
       "      <td>Fort Pierce-Fort Pierce</td>\n",
       "    </tr>\n",
       "    <tr>\n",
       "      <th>4</th>\n",
       "      <td>2016-01-06 14:42:00</td>\n",
       "      <td>2016-01-06 15:49:00</td>\n",
       "      <td>Business</td>\n",
       "      <td>Fort Pierce</td>\n",
       "      <td>West Palm Beach</td>\n",
       "      <td>63.7</td>\n",
       "      <td>Customer Visit</td>\n",
       "      <td>14</td>\n",
       "      <td>6</td>\n",
       "      <td>1</td>\n",
       "      <td>Wednesday</td>\n",
       "      <td>2</td>\n",
       "      <td>Fort Pierce-West Palm Beach</td>\n",
       "    </tr>\n",
       "    <tr>\n",
       "      <th>5</th>\n",
       "      <td>2016-01-06 17:15:00</td>\n",
       "      <td>2016-01-06 17:19:00</td>\n",
       "      <td>Business</td>\n",
       "      <td>West Palm Beach</td>\n",
       "      <td>West Palm Beach</td>\n",
       "      <td>4.3</td>\n",
       "      <td>Meal/Entertain</td>\n",
       "      <td>17</td>\n",
       "      <td>6</td>\n",
       "      <td>1</td>\n",
       "      <td>Wednesday</td>\n",
       "      <td>2</td>\n",
       "      <td>West Palm Beach-West Palm Beach</td>\n",
       "    </tr>\n",
       "    <tr>\n",
       "      <th>...</th>\n",
       "      <td>...</td>\n",
       "      <td>...</td>\n",
       "      <td>...</td>\n",
       "      <td>...</td>\n",
       "      <td>...</td>\n",
       "      <td>...</td>\n",
       "      <td>...</td>\n",
       "      <td>...</td>\n",
       "      <td>...</td>\n",
       "      <td>...</td>\n",
       "      <td>...</td>\n",
       "      <td>...</td>\n",
       "      <td>...</td>\n",
       "    </tr>\n",
       "    <tr>\n",
       "      <th>1150</th>\n",
       "      <td>2016-12-31 01:07:00</td>\n",
       "      <td>2016-12-31 01:14:00</td>\n",
       "      <td>Business</td>\n",
       "      <td>Kar?chi</td>\n",
       "      <td>Kar?chi</td>\n",
       "      <td>0.7</td>\n",
       "      <td>Meeting</td>\n",
       "      <td>1</td>\n",
       "      <td>31</td>\n",
       "      <td>12</td>\n",
       "      <td>Saturday</td>\n",
       "      <td>5</td>\n",
       "      <td>Kar?chi-Kar?chi</td>\n",
       "    </tr>\n",
       "    <tr>\n",
       "      <th>1151</th>\n",
       "      <td>2016-12-31 13:24:00</td>\n",
       "      <td>2016-12-31 13:42:00</td>\n",
       "      <td>Business</td>\n",
       "      <td>Kar?chi</td>\n",
       "      <td>Unknown Location</td>\n",
       "      <td>3.9</td>\n",
       "      <td>Temporary Site</td>\n",
       "      <td>13</td>\n",
       "      <td>31</td>\n",
       "      <td>12</td>\n",
       "      <td>Saturday</td>\n",
       "      <td>5</td>\n",
       "      <td>Kar?chi-Unknown Location</td>\n",
       "    </tr>\n",
       "    <tr>\n",
       "      <th>1152</th>\n",
       "      <td>2016-12-31 15:03:00</td>\n",
       "      <td>2016-12-31 15:38:00</td>\n",
       "      <td>Business</td>\n",
       "      <td>Unknown Location</td>\n",
       "      <td>Unknown Location</td>\n",
       "      <td>16.2</td>\n",
       "      <td>Meeting</td>\n",
       "      <td>15</td>\n",
       "      <td>31</td>\n",
       "      <td>12</td>\n",
       "      <td>Saturday</td>\n",
       "      <td>5</td>\n",
       "      <td>Unknown Location-Unknown Location</td>\n",
       "    </tr>\n",
       "    <tr>\n",
       "      <th>1153</th>\n",
       "      <td>2016-12-31 21:32:00</td>\n",
       "      <td>2016-12-31 21:50:00</td>\n",
       "      <td>Business</td>\n",
       "      <td>Katunayake</td>\n",
       "      <td>Gampaha</td>\n",
       "      <td>6.4</td>\n",
       "      <td>Temporary Site</td>\n",
       "      <td>21</td>\n",
       "      <td>31</td>\n",
       "      <td>12</td>\n",
       "      <td>Saturday</td>\n",
       "      <td>5</td>\n",
       "      <td>Katunayake-Gampaha</td>\n",
       "    </tr>\n",
       "    <tr>\n",
       "      <th>1154</th>\n",
       "      <td>2016-12-31 22:08:00</td>\n",
       "      <td>2016-12-31 23:51:00</td>\n",
       "      <td>Business</td>\n",
       "      <td>Gampaha</td>\n",
       "      <td>Ilukwatta</td>\n",
       "      <td>48.2</td>\n",
       "      <td>Temporary Site</td>\n",
       "      <td>22</td>\n",
       "      <td>31</td>\n",
       "      <td>12</td>\n",
       "      <td>Saturday</td>\n",
       "      <td>5</td>\n",
       "      <td>Gampaha-Ilukwatta</td>\n",
       "    </tr>\n",
       "  </tbody>\n",
       "</table>\n",
       "<p>653 rows × 13 columns</p>\n",
       "</div>"
      ],
      "text/plain": [
       "             START_DATE*           END_DATE* CATEGORY*            START*  \\\n",
       "0    2016-01-01 21:11:00 2016-01-01 21:17:00  Business       Fort Pierce   \n",
       "2    2016-01-02 20:25:00 2016-01-02 20:38:00  Business       Fort Pierce   \n",
       "3    2016-01-05 17:31:00 2016-01-05 17:45:00  Business       Fort Pierce   \n",
       "4    2016-01-06 14:42:00 2016-01-06 15:49:00  Business       Fort Pierce   \n",
       "5    2016-01-06 17:15:00 2016-01-06 17:19:00  Business   West Palm Beach   \n",
       "...                  ...                 ...       ...               ...   \n",
       "1150 2016-12-31 01:07:00 2016-12-31 01:14:00  Business           Kar?chi   \n",
       "1151 2016-12-31 13:24:00 2016-12-31 13:42:00  Business           Kar?chi   \n",
       "1152 2016-12-31 15:03:00 2016-12-31 15:38:00  Business  Unknown Location   \n",
       "1153 2016-12-31 21:32:00 2016-12-31 21:50:00  Business        Katunayake   \n",
       "1154 2016-12-31 22:08:00 2016-12-31 23:51:00  Business           Gampaha   \n",
       "\n",
       "                 STOP*  MILES*         PURPOSE*  HOUR  DAY  MONTH    WEEKDAY  \\\n",
       "0          Fort Pierce     5.1   Meal/Entertain    21    1      1     Friday   \n",
       "2          Fort Pierce     4.8  Errand/Supplies    20    2      1   Saturday   \n",
       "3          Fort Pierce     4.7          Meeting    17    5      1    Tuesday   \n",
       "4      West Palm Beach    63.7   Customer Visit    14    6      1  Wednesday   \n",
       "5      West Palm Beach     4.3   Meal/Entertain    17    6      1  Wednesday   \n",
       "...                ...     ...              ...   ...  ...    ...        ...   \n",
       "1150           Kar?chi     0.7          Meeting     1   31     12   Saturday   \n",
       "1151  Unknown Location     3.9   Temporary Site    13   31     12   Saturday   \n",
       "1152  Unknown Location    16.2          Meeting    15   31     12   Saturday   \n",
       "1153           Gampaha     6.4   Temporary Site    21   31     12   Saturday   \n",
       "1154         Ilukwatta    48.2   Temporary Site    22   31     12   Saturday   \n",
       "\n",
       "      DAY_OF_WEEK                               TRIP  \n",
       "0               4            Fort Pierce-Fort Pierce  \n",
       "2               5            Fort Pierce-Fort Pierce  \n",
       "3               1            Fort Pierce-Fort Pierce  \n",
       "4               2        Fort Pierce-West Palm Beach  \n",
       "5               2    West Palm Beach-West Palm Beach  \n",
       "...           ...                                ...  \n",
       "1150            5                    Kar?chi-Kar?chi  \n",
       "1151            5           Kar?chi-Unknown Location  \n",
       "1152            5  Unknown Location-Unknown Location  \n",
       "1153            5                 Katunayake-Gampaha  \n",
       "1154            5                  Gampaha-Ilukwatta  \n",
       "\n",
       "[653 rows x 13 columns]"
      ]
     },
     "execution_count": 79,
     "metadata": {},
     "output_type": "execute_result"
    }
   ],
   "source": [
    "uber_data['START_DATE*'] = pd.to_datetime(uber_data['START_DATE*'], format = '%m/%d/%Y %H:%M')\n",
    "uber_data['END_DATE*'] = pd.to_datetime(uber_data['END_DATE*'], format = '%m/%d/%Y %H:%M')\n",
    "\n",
    "uber_data['HOUR'] = uber_data['START_DATE*'].dt.hour\n",
    "uber_data['DAY'] = uber_data['START_DATE*'].dt.day\n",
    "uber_data['MONTH'] = uber_data['START_DATE*'].dt.month\n",
    "uber_data['WEEKDAY'] = uber_data['START_DATE*'].dt.day_name()\n",
    "uber_data['DAY_OF_WEEK'] = uber_data['START_DATE*'].dt.dayofweek\n",
    "uber_data['TRIP'] = uber_data['START*'] + '-' + uber_data['STOP*']\n",
    "\n",
    "uber_data"
   ]
  },
  {
   "cell_type": "markdown",
   "id": "585d106a",
   "metadata": {},
   "source": [
    "# Category Plot"
   ]
  },
  {
   "cell_type": "code",
   "execution_count": 80,
   "id": "7dd9f514",
   "metadata": {},
   "outputs": [
    {
     "data": {
      "text/plain": [
       "<AxesSubplot:xlabel='CATEGORY*', ylabel='count'>"
      ]
     },
     "execution_count": 80,
     "metadata": {},
     "output_type": "execute_result"
    },
    {
     "data": {
      "image/png": "[encoded data removed]",
      "text/plain": [
       "<Figure size 432x288 with 1 Axes>"
      ]
     },
     "metadata": {
      "needs_background": "light"
     },
     "output_type": "display_data"
    }
   ],
   "source": [
    "sns.countplot(x = uber_data['CATEGORY*'])"
   ]
  },
  {
   "cell_type": "markdown",
   "id": "071894a8",
   "metadata": {},
   "source": [
    "# Purpuse Plot"
   ]
  },
  {
   "cell_type": "code",
   "execution_count": 81,
   "id": "3c76a6fc",
   "metadata": {},
   "outputs": [
    {
     "data": {
      "text/plain": [
       "<AxesSubplot:xlabel='count', ylabel='PURPOSE*'>"
      ]
     },
     "execution_count": 81,
     "metadata": {},
     "output_type": "execute_result"
    },
    {
     "data": {
      "image/png": "[encoded data removed]",
      "text/plain": [
       "<Figure size 432x288 with 1 Axes>"
      ]
     },
     "metadata": {
      "needs_background": "light"
     },
     "output_type": "display_data"
    }
   ],
   "source": [
    "sns.countplot(y = uber_data['PURPOSE*'])"
   ]
  },
  {
   "cell_type": "markdown",
   "id": "c9271ea1",
   "metadata": {},
   "source": [
    "# Miles Plot"
   ]
  },
  {
   "cell_type": "code",
   "execution_count": 46,
   "id": "f11201c5",
   "metadata": {},
   "outputs": [
    {
     "data": {
      "text/plain": [
       "<AxesSubplot:ylabel='Frequency'>"
      ]
     },
     "execution_count": 46,
     "metadata": {},
     "output_type": "execute_result"
    },
    {
     "data": {
      "image/png": "[encoded data removed]",
      "text/plain": [
       "<Figure size 432x288 with 1 Axes>"
      ]
     },
     "metadata": {
      "needs_background": "light"
     },
     "output_type": "display_data"
    }
   ],
   "source": [
    "uber_data['MILES*'].plot.hist()"
   ]
  },
  {
   "cell_type": "markdown",
   "id": "589c3a5d",
   "metadata": {},
   "source": [
    "# The most Frequent Hour"
   ]
  },
  {
   "cell_type": "code",
   "execution_count": 48,
   "id": "27845e2b",
   "metadata": {},
   "outputs": [
    {
     "data": {
      "text/plain": [
       "Text(0.5, 1.0, 'Number of trips Vs hours')"
      ]
     },
     "execution_count": 48,
     "metadata": {},
     "output_type": "execute_result"
    },
    {
     "data": {
      "image/png": "[encoded data removed]",
      "text/plain": [
       "<Figure size 1080x360 with 1 Axes>"
      ]
     },
     "metadata": {
      "needs_background": "light"
     },
     "output_type": "display_data"
    }
   ],
   "source": [
    "hours = uber_data['HOUR'].value_counts()\n",
    "hours.plot(kind = 'bar', color = 'green', figsize = (15, 5))\n",
    "plt.xlabel('Hours')\n",
    "plt.ylabel('Frequency')\n",
    "plt.title('Number of trips Vs hours')"
   ]
  },
  {
   "cell_type": "markdown",
   "id": "ce5d68a4",
   "metadata": {},
   "source": [
    "# The most Frequent Weekday"
   ]
  },
  {
   "cell_type": "code",
   "execution_count": 50,
   "id": "299c2dc1",
   "metadata": {},
   "outputs": [
    {
     "data": {
      "text/plain": [
       "Text(0.5, 1.0, 'Number of trips Vs weekday')"
      ]
     },
     "execution_count": 50,
     "metadata": {},
     "output_type": "execute_result"
    },
    {
     "data": {
      "image/png": "[encoded data removed]",
      "text/plain": [
       "<Figure size 1080x360 with 1 Axes>"
      ]
     },
     "metadata": {
      "needs_background": "light"
     },
     "output_type": "display_data"
    }
   ],
   "source": [
    "days = uber_data['WEEKDAY'].value_counts()\n",
    "days.plot(kind = 'bar', color = 'purple', figsize = (15, 5))\n",
    "plt.xlabel('Weekday')\n",
    "plt.ylabel('Frequency')\n",
    "plt.title('Number of trips Vs weekday')"
   ]
  },
  {
   "cell_type": "markdown",
   "id": "d6b53c64",
   "metadata": {},
   "source": [
    "# The most Frequent Month"
   ]
  },
  {
   "cell_type": "code",
   "execution_count": 57,
   "id": "0b575c93",
   "metadata": {},
   "outputs": [
    {
     "data": {
      "text/plain": [
       "Text(0.5, 1.0, 'Number of trips Vs months')"
      ]
     },
     "execution_count": 57,
     "metadata": {},
     "output_type": "execute_result"
    },
    {
     "data": {
      "image/png": "[encoded data removed]",
      "text/plain": [
       "<Figure size 1080x360 with 1 Axes>"
      ]
     },
     "metadata": {
      "needs_background": "light"
     },
     "output_type": "display_data"
    }
   ],
   "source": [
    "months = uber_data['MONTH'].value_counts()\n",
    "months.plot(kind = 'bar',  color = 'orange', figsize = (15,5), )\n",
    "plt.xlabel('Month')\n",
    "plt.ylabel('Frequency')\n",
    "plt.title('Number of trips Vs months')"
   ]
  },
  {
   "cell_type": "markdown",
   "id": "dde7cd53",
   "metadata": {},
   "source": [
    "# The most busy days in December"
   ]
  },
  {
   "cell_type": "code",
   "execution_count": 58,
   "id": "731d17ae",
   "metadata": {},
   "outputs": [
    {
     "data": {
      "text/plain": [
       "Text(0.5, 1.0, 'Number of trips Vs december')"
      ]
     },
     "execution_count": 58,
     "metadata": {},
     "output_type": "execute_result"
    },
    {
     "data": {
      "image/png": "[encoded data removed]",
      "text/plain": [
       "<Figure size 1080x360 with 1 Axes>"
      ]
     },
     "metadata": {
      "needs_background": "light"
     },
     "output_type": "display_data"
    }
   ],
   "source": [
    "dec = uber_data[\"DAY\"][uber_data['MONTH'] == 12].value_counts()\n",
    "dec.plot(kind = 'bar',  color = 'blue', figsize = (15,5))\n",
    "plt.xlabel('Day')\n",
    "plt.ylabel('Frequency')\n",
    "plt.title('Number of trips Vs december')"
   ]
  },
  {
   "cell_type": "markdown",
   "id": "7c6af150",
   "metadata": {},
   "source": [
    "# The Most Traveled Place"
   ]
  },
  {
   "cell_type": "code",
   "execution_count": 62,
   "id": "93048d92",
   "metadata": {},
   "outputs": [
    {
     "data": {
      "text/plain": [
       "Text(0.5, 1.0, 'Pickup Point Vs Frequency')"
      ]
     },
     "execution_count": 62,
     "metadata": {},
     "output_type": "execute_result"
    },
    {
     "data": {
      "image/png": "[encoded data removed]",
      "text/plain": [
       "<Figure size 1080x360 with 1 Axes>"
      ]
     },
     "metadata": {
      "needs_background": "light"
     },
     "output_type": "display_data"
    }
   ],
   "source": [
    "place = uber_data['START*'].value_counts().nlargest(8)\n",
    "place.plot(kind = 'barh',  color = 'cyan', figsize = (15,5))\n",
    "plt.xlabel('Frequency')\n",
    "plt.ylabel('Pickup Point')\n",
    "plt.title('Pickup Point Vs Frequency')"
   ]
  },
  {
   "cell_type": "markdown",
   "id": "36f0beb6",
   "metadata": {},
   "source": [
    "# The Most Frequent End Point"
   ]
  },
  {
   "cell_type": "code",
   "execution_count": 63,
   "id": "27ab6549",
   "metadata": {},
   "outputs": [
    {
     "data": {
      "text/plain": [
       "Text(0.5, 1.0, 'End Point Vs Frequency')"
      ]
     },
     "execution_count": 63,
     "metadata": {},
     "output_type": "execute_result"
    },
    {
     "data": {
      "image/png": "[encoded data removed]",
      "text/plain": [
       "<Figure size 1080x360 with 1 Axes>"
      ]
     },
     "metadata": {
      "needs_background": "light"
     },
     "output_type": "display_data"
    }
   ],
   "source": [
    "endpoint = uber_data['STOP*'].value_counts().nlargest(8)\n",
    "endpoint.plot(kind = 'barh',  color = 'burlywood', figsize = (15,5))\n",
    "plt.xlabel('Frequency')\n",
    "plt.ylabel('End Point')\n",
    "plt.title('End Point Vs Frequency')"
   ]
  },
  {
   "cell_type": "markdown",
   "id": "1c485bfc",
   "metadata": {},
   "source": [
    "# Trips Vs Frequency"
   ]
  },
  {
   "cell_type": "code",
   "execution_count": 82,
   "id": "19ce5510",
   "metadata": {},
   "outputs": [
    {
     "data": {
      "text/plain": [
       "Text(0.5, 1.0, 'End Point Vs Frequency')"
      ]
     },
     "execution_count": 82,
     "metadata": {},
     "output_type": "execute_result"
    },
    {
     "data": {
      "image/png": "[encoded data removed]",
      "text/plain": [
       "<Figure size 1080x360 with 1 Axes>"
      ]
     },
     "metadata": {
      "needs_background": "light"
     },
     "output_type": "display_data"
    }
   ],
   "source": [
    "trip = uber_data['TRIP'].value_counts().nlargest(8)\n",
    "trip.plot(kind = 'barh',  color = 'tomato', figsize = (15,5))\n",
    "plt.xlabel('Frequency')\n",
    "plt.ylabel('End Point')\n",
    "plt.title('End Point Vs Frequency')"
   ]
  },
  {
   "cell_type": "code",
   "execution_count": null,
   "id": "6eebc019",
   "metadata": {},
   "outputs": [],
   "source": []
  }
 ],
 "metadata": {
  "kernelspec": {
   "display_name": "Python 3 (ipykernel)",
   "language": "python",
   "name": "python3"
  },
  "language_info": {
   "codemirror_mode": {
    "name": "ipython",
    "version": 3
   },
   "file_extension": ".py",
   "mimetype": "text/x-python",
   "name": "python",
   "nbconvert_exporter": "python",
   "pygments_lexer": "ipython3",
   "version": "3.10.4"
  }
 },
 "nbformat": 4,
 "nbformat_minor": 5
}
